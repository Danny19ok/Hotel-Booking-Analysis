{
 "cells": [
  {
   "cell_type": "code",
   "execution_count": 1,
   "id": "688fd53d",
   "metadata": {},
   "outputs": [],
   "source": [
    "import numpy as np\n",
    "import pandas as pd"
   ]
  },
  {
   "cell_type": "code",
   "execution_count": 2,
   "id": "e37fbc43",
   "metadata": {},
   "outputs": [],
   "source": [
    "df=pd.read_csv(\"hotel_booking.csv\")\n"
   ]
  },
  {
   "cell_type": "code",
   "execution_count": 3,
   "id": "eea7b3c1",
   "metadata": {},
   "outputs": [],
   "source": [
    "stack=[]\n",
    "for i in df.columns:\n",
    "    stack.append(i.upper())\n",
    "    \n",
    "df.columns=stack"
   ]
  },
  {
   "cell_type": "code",
   "execution_count": 98,
   "id": "7deca0b2",
   "metadata": {},
   "outputs": [],
   "source": [
    "\n",
    "df=df.drop([ 'ARRIVAL_DATE_WEEK_NUMBER',\n",
    "       'ARRIVAL_DATE_DAY_OF_MONTH', 'STAYS_IN_WEEKEND_NIGHTS',\n",
    "       'STAYS_IN_WEEK_NIGHTS','DEPOSIT_TYPE', 'AGENT',\n",
    "       'COMPANY',\n",
    "       'REQUIRED_CAR_PARKING_SPACES', 'TOTAL_OF_SPECIAL_REQUESTS'],axis=1) "
   ]
  },
  {
   "cell_type": "code",
   "execution_count": 5,
   "id": "17992739",
   "metadata": {},
   "outputs": [],
   "source": [
    "\n",
    "df=df.drop(['NAME', 'EMAIL', 'PHONE-NUMBER',\n",
    "       'CREDIT_CARD'],axis=1) "
   ]
  },
  {
   "cell_type": "code",
   "execution_count": 6,
   "id": "5ca0a5fb",
   "metadata": {},
   "outputs": [],
   "source": [
    "\n",
    "df=df.drop([ 'DAYS_IN_WAITING_LIST', 'CUSTOMER_TYPE', 'RESERVATION_STATUS',\n",
    "       'RESERVATION_STATUS_DATE'],axis=1) "
   ]
  },
  {
   "cell_type": "code",
   "execution_count": 14,
   "id": "11378060",
   "metadata": {},
   "outputs": [],
   "source": [
    "\n",
    "df=df.drop(['ARRIVAL_DATE_WEEK_NUMBER',\n",
    "       'ARRIVAL_DATE_DAY_OF_MONTH', 'STAYS_IN_WEEKEND_NIGHTS',\n",
    "       'STAYS_IN_WEEK_NIGHTS','AGENT',\n",
    "       'COMPANY','REQUIRED_CAR_PARKING_SPACES',\n",
    "       'TOTAL_OF_SPECIAL_REQUESTS'],axis=1) "
   ]
  },
  {
   "cell_type": "code",
   "execution_count": 16,
   "id": "d218c72b",
   "metadata": {},
   "outputs": [],
   "source": [
    "data=df.copy()"
   ]
  },
  {
   "cell_type": "code",
   "execution_count": 11,
   "id": "5468c763",
   "metadata": {},
   "outputs": [
    {
     "data": {
      "text/plain": [
       "CHILDREN\n",
       "0.0     110796\n",
       "1.0       4861\n",
       "2.0       3652\n",
       "3.0         76\n",
       "10.0         1\n",
       "Name: count, dtype: int64"
      ]
     },
     "execution_count": 11,
     "metadata": {},
     "output_type": "execute_result"
    }
   ],
   "source": [
    "data[\"CHILDREN\"].value_counts()"
   ]
  },
  {
   "cell_type": "code",
   "execution_count": 10,
   "id": "994ebd43",
   "metadata": {},
   "outputs": [
    {
     "name": "stderr",
     "output_type": "stream",
     "text": [
      "C:\\Users\\Admin\\AppData\\Local\\Temp\\ipykernel_7580\\2044673603.py:1: FutureWarning: A value is trying to be set on a copy of a DataFrame or Series through chained assignment using an inplace method.\n",
      "The behavior will change in pandas 3.0. This inplace method will never work because the intermediate object on which we are setting values always behaves as a copy.\n",
      "\n",
      "For example, when doing 'df[col].method(value, inplace=True)', try using 'df.method({col: value}, inplace=True)' or df[col] = df[col].method(value) instead, to perform the operation inplace on the original object.\n",
      "\n",
      "\n",
      "  df[\"CHILDREN\"].fillna(0,inplace=True)\n"
     ]
    }
   ],
   "source": [
    "df[\"CHILDREN\"].fillna(0,inplace=True)"
   ]
  },
  {
   "cell_type": "code",
   "execution_count": 18,
   "id": "667a9211",
   "metadata": {},
   "outputs": [
    {
     "data": {
      "text/plain": [
       "False    79869\n",
       "True     39521\n",
       "Name: count, dtype: int64"
      ]
     },
     "execution_count": 18,
     "metadata": {},
     "output_type": "execute_result"
    }
   ],
   "source": [
    "df.duplicated().value_counts()\n"
   ]
  },
  {
   "cell_type": "code",
   "execution_count": 19,
   "id": "638b5ba9",
   "metadata": {},
   "outputs": [],
   "source": [
    "df.drop_duplicates(inplace=True)"
   ]
  },
  {
   "cell_type": "code",
   "execution_count": 20,
   "id": "51c27e74",
   "metadata": {},
   "outputs": [],
   "source": [
    "data=df.copy()"
   ]
  },
  {
   "cell_type": "code",
   "execution_count": 51,
   "id": "3c655187",
   "metadata": {},
   "outputs": [
    {
     "data": {
      "text/plain": [
       "numpy.float64"
      ]
     },
     "execution_count": 51,
     "metadata": {},
     "output_type": "execute_result"
    }
   ],
   "source": [
    "type(data[\"CHILDREN\"][0])"
   ]
  },
  {
   "cell_type": "code",
   "execution_count": 52,
   "id": "b03dbcad",
   "metadata": {},
   "outputs": [],
   "source": [
    "data[\"CHILDREN\"]=data[\"CHILDREN\"].astype(int)"
   ]
  },
  {
   "cell_type": "code",
   "execution_count": 50,
   "id": "1d3ee3e9",
   "metadata": {},
   "outputs": [],
   "source": [
    "data=df.copy()"
   ]
  },
  {
   "cell_type": "code",
   "execution_count": 57,
   "id": "8e2c299e",
   "metadata": {},
   "outputs": [
    {
     "data": {
      "text/plain": [
       "CHILDREN\n",
       "0     71641\n",
       "1      4619\n",
       "2      3534\n",
       "3        74\n",
       "10        1\n",
       "Name: count, dtype: int64"
      ]
     },
     "execution_count": 57,
     "metadata": {},
     "output_type": "execute_result"
    }
   ],
   "source": [
    "data[\"CHILDREN\"].value_counts()"
   ]
  },
  {
   "cell_type": "code",
   "execution_count": 66,
   "id": "f1bf4c0b",
   "metadata": {},
   "outputs": [],
   "source": [
    "data[\"AVG_EARNED_PER_DAY\"]=data[\"ADR\"]"
   ]
  },
  {
   "cell_type": "code",
   "execution_count": 67,
   "id": "ba94a31e",
   "metadata": {},
   "outputs": [
    {
     "data": {
      "text/html": [
       "<div>\n",
       "<style scoped>\n",
       "    .dataframe tbody tr th:only-of-type {\n",
       "        vertical-align: middle;\n",
       "    }\n",
       "\n",
       "    .dataframe tbody tr th {\n",
       "        vertical-align: top;\n",
       "    }\n",
       "\n",
       "    .dataframe thead th {\n",
       "        text-align: right;\n",
       "    }\n",
       "</style>\n",
       "<table border=\"1\" class=\"dataframe\">\n",
       "  <thead>\n",
       "    <tr style=\"text-align: right;\">\n",
       "      <th></th>\n",
       "      <th>HOTEL</th>\n",
       "      <th>IS_CANCELED</th>\n",
       "      <th>LEAD_TIME</th>\n",
       "      <th>ARRIVAL_DATE_YEAR</th>\n",
       "      <th>ARRIVAL_DATE_MONTH</th>\n",
       "      <th>ADULTS</th>\n",
       "      <th>CHILDREN</th>\n",
       "      <th>BABIES</th>\n",
       "      <th>IS_REPEATED_GUEST</th>\n",
       "      <th>PREVIOUS_CANCELLATIONS</th>\n",
       "      <th>PREVIOUS_BOOKINGS_NOT_CANCELED</th>\n",
       "      <th>RESERVED_ROOM_TYPE</th>\n",
       "      <th>ASSIGNED_ROOM_TYPE</th>\n",
       "      <th>BOOKING_CHANGES</th>\n",
       "      <th>DEPOSIT_TYPE</th>\n",
       "      <th>AVG_EARNED_PER_DAY</th>\n",
       "    </tr>\n",
       "  </thead>\n",
       "  <tbody>\n",
       "    <tr>\n",
       "      <th>0</th>\n",
       "      <td>Resort Hotel</td>\n",
       "      <td>0</td>\n",
       "      <td>342</td>\n",
       "      <td>2015</td>\n",
       "      <td>July</td>\n",
       "      <td>2</td>\n",
       "      <td>0</td>\n",
       "      <td>0</td>\n",
       "      <td>0</td>\n",
       "      <td>0</td>\n",
       "      <td>0</td>\n",
       "      <td>C</td>\n",
       "      <td>C</td>\n",
       "      <td>3</td>\n",
       "      <td>No Deposit</td>\n",
       "      <td>0.00</td>\n",
       "    </tr>\n",
       "    <tr>\n",
       "      <th>1</th>\n",
       "      <td>Resort Hotel</td>\n",
       "      <td>0</td>\n",
       "      <td>737</td>\n",
       "      <td>2015</td>\n",
       "      <td>July</td>\n",
       "      <td>2</td>\n",
       "      <td>0</td>\n",
       "      <td>0</td>\n",
       "      <td>0</td>\n",
       "      <td>0</td>\n",
       "      <td>0</td>\n",
       "      <td>C</td>\n",
       "      <td>C</td>\n",
       "      <td>4</td>\n",
       "      <td>No Deposit</td>\n",
       "      <td>0.00</td>\n",
       "    </tr>\n",
       "    <tr>\n",
       "      <th>2</th>\n",
       "      <td>Resort Hotel</td>\n",
       "      <td>0</td>\n",
       "      <td>7</td>\n",
       "      <td>2015</td>\n",
       "      <td>July</td>\n",
       "      <td>1</td>\n",
       "      <td>0</td>\n",
       "      <td>0</td>\n",
       "      <td>0</td>\n",
       "      <td>0</td>\n",
       "      <td>0</td>\n",
       "      <td>A</td>\n",
       "      <td>C</td>\n",
       "      <td>0</td>\n",
       "      <td>No Deposit</td>\n",
       "      <td>75.00</td>\n",
       "    </tr>\n",
       "    <tr>\n",
       "      <th>3</th>\n",
       "      <td>Resort Hotel</td>\n",
       "      <td>0</td>\n",
       "      <td>13</td>\n",
       "      <td>2015</td>\n",
       "      <td>July</td>\n",
       "      <td>1</td>\n",
       "      <td>0</td>\n",
       "      <td>0</td>\n",
       "      <td>0</td>\n",
       "      <td>0</td>\n",
       "      <td>0</td>\n",
       "      <td>A</td>\n",
       "      <td>A</td>\n",
       "      <td>0</td>\n",
       "      <td>No Deposit</td>\n",
       "      <td>75.00</td>\n",
       "    </tr>\n",
       "    <tr>\n",
       "      <th>4</th>\n",
       "      <td>Resort Hotel</td>\n",
       "      <td>0</td>\n",
       "      <td>14</td>\n",
       "      <td>2015</td>\n",
       "      <td>July</td>\n",
       "      <td>2</td>\n",
       "      <td>0</td>\n",
       "      <td>0</td>\n",
       "      <td>0</td>\n",
       "      <td>0</td>\n",
       "      <td>0</td>\n",
       "      <td>A</td>\n",
       "      <td>A</td>\n",
       "      <td>0</td>\n",
       "      <td>No Deposit</td>\n",
       "      <td>98.00</td>\n",
       "    </tr>\n",
       "    <tr>\n",
       "      <th>...</th>\n",
       "      <td>...</td>\n",
       "      <td>...</td>\n",
       "      <td>...</td>\n",
       "      <td>...</td>\n",
       "      <td>...</td>\n",
       "      <td>...</td>\n",
       "      <td>...</td>\n",
       "      <td>...</td>\n",
       "      <td>...</td>\n",
       "      <td>...</td>\n",
       "      <td>...</td>\n",
       "      <td>...</td>\n",
       "      <td>...</td>\n",
       "      <td>...</td>\n",
       "      <td>...</td>\n",
       "      <td>...</td>\n",
       "    </tr>\n",
       "    <tr>\n",
       "      <th>119385</th>\n",
       "      <td>City Hotel</td>\n",
       "      <td>0</td>\n",
       "      <td>23</td>\n",
       "      <td>2017</td>\n",
       "      <td>August</td>\n",
       "      <td>2</td>\n",
       "      <td>0</td>\n",
       "      <td>0</td>\n",
       "      <td>0</td>\n",
       "      <td>0</td>\n",
       "      <td>0</td>\n",
       "      <td>A</td>\n",
       "      <td>A</td>\n",
       "      <td>0</td>\n",
       "      <td>No Deposit</td>\n",
       "      <td>96.14</td>\n",
       "    </tr>\n",
       "    <tr>\n",
       "      <th>119386</th>\n",
       "      <td>City Hotel</td>\n",
       "      <td>0</td>\n",
       "      <td>102</td>\n",
       "      <td>2017</td>\n",
       "      <td>August</td>\n",
       "      <td>3</td>\n",
       "      <td>0</td>\n",
       "      <td>0</td>\n",
       "      <td>0</td>\n",
       "      <td>0</td>\n",
       "      <td>0</td>\n",
       "      <td>E</td>\n",
       "      <td>E</td>\n",
       "      <td>0</td>\n",
       "      <td>No Deposit</td>\n",
       "      <td>225.43</td>\n",
       "    </tr>\n",
       "    <tr>\n",
       "      <th>119387</th>\n",
       "      <td>City Hotel</td>\n",
       "      <td>0</td>\n",
       "      <td>34</td>\n",
       "      <td>2017</td>\n",
       "      <td>August</td>\n",
       "      <td>2</td>\n",
       "      <td>0</td>\n",
       "      <td>0</td>\n",
       "      <td>0</td>\n",
       "      <td>0</td>\n",
       "      <td>0</td>\n",
       "      <td>D</td>\n",
       "      <td>D</td>\n",
       "      <td>0</td>\n",
       "      <td>No Deposit</td>\n",
       "      <td>157.71</td>\n",
       "    </tr>\n",
       "    <tr>\n",
       "      <th>119388</th>\n",
       "      <td>City Hotel</td>\n",
       "      <td>0</td>\n",
       "      <td>109</td>\n",
       "      <td>2017</td>\n",
       "      <td>August</td>\n",
       "      <td>2</td>\n",
       "      <td>0</td>\n",
       "      <td>0</td>\n",
       "      <td>0</td>\n",
       "      <td>0</td>\n",
       "      <td>0</td>\n",
       "      <td>A</td>\n",
       "      <td>A</td>\n",
       "      <td>0</td>\n",
       "      <td>No Deposit</td>\n",
       "      <td>104.40</td>\n",
       "    </tr>\n",
       "    <tr>\n",
       "      <th>119389</th>\n",
       "      <td>City Hotel</td>\n",
       "      <td>0</td>\n",
       "      <td>205</td>\n",
       "      <td>2017</td>\n",
       "      <td>August</td>\n",
       "      <td>2</td>\n",
       "      <td>0</td>\n",
       "      <td>0</td>\n",
       "      <td>0</td>\n",
       "      <td>0</td>\n",
       "      <td>0</td>\n",
       "      <td>A</td>\n",
       "      <td>A</td>\n",
       "      <td>0</td>\n",
       "      <td>No Deposit</td>\n",
       "      <td>151.20</td>\n",
       "    </tr>\n",
       "  </tbody>\n",
       "</table>\n",
       "<p>79869 rows × 16 columns</p>\n",
       "</div>"
      ],
      "text/plain": [
       "               HOTEL  IS_CANCELED  LEAD_TIME  ARRIVAL_DATE_YEAR  \\\n",
       "0       Resort Hotel            0        342               2015   \n",
       "1       Resort Hotel            0        737               2015   \n",
       "2       Resort Hotel            0          7               2015   \n",
       "3       Resort Hotel            0         13               2015   \n",
       "4       Resort Hotel            0         14               2015   \n",
       "...              ...          ...        ...                ...   \n",
       "119385    City Hotel            0         23               2017   \n",
       "119386    City Hotel            0        102               2017   \n",
       "119387    City Hotel            0         34               2017   \n",
       "119388    City Hotel            0        109               2017   \n",
       "119389    City Hotel            0        205               2017   \n",
       "\n",
       "       ARRIVAL_DATE_MONTH  ADULTS  CHILDREN  BABIES  IS_REPEATED_GUEST  \\\n",
       "0                    July       2         0       0                  0   \n",
       "1                    July       2         0       0                  0   \n",
       "2                    July       1         0       0                  0   \n",
       "3                    July       1         0       0                  0   \n",
       "4                    July       2         0       0                  0   \n",
       "...                   ...     ...       ...     ...                ...   \n",
       "119385             August       2         0       0                  0   \n",
       "119386             August       3         0       0                  0   \n",
       "119387             August       2         0       0                  0   \n",
       "119388             August       2         0       0                  0   \n",
       "119389             August       2         0       0                  0   \n",
       "\n",
       "        PREVIOUS_CANCELLATIONS  PREVIOUS_BOOKINGS_NOT_CANCELED  \\\n",
       "0                            0                               0   \n",
       "1                            0                               0   \n",
       "2                            0                               0   \n",
       "3                            0                               0   \n",
       "4                            0                               0   \n",
       "...                        ...                             ...   \n",
       "119385                       0                               0   \n",
       "119386                       0                               0   \n",
       "119387                       0                               0   \n",
       "119388                       0                               0   \n",
       "119389                       0                               0   \n",
       "\n",
       "       RESERVED_ROOM_TYPE ASSIGNED_ROOM_TYPE  BOOKING_CHANGES DEPOSIT_TYPE  \\\n",
       "0                       C                  C                3   No Deposit   \n",
       "1                       C                  C                4   No Deposit   \n",
       "2                       A                  C                0   No Deposit   \n",
       "3                       A                  A                0   No Deposit   \n",
       "4                       A                  A                0   No Deposit   \n",
       "...                   ...                ...              ...          ...   \n",
       "119385                  A                  A                0   No Deposit   \n",
       "119386                  E                  E                0   No Deposit   \n",
       "119387                  D                  D                0   No Deposit   \n",
       "119388                  A                  A                0   No Deposit   \n",
       "119389                  A                  A                0   No Deposit   \n",
       "\n",
       "        AVG_EARNED_PER_DAY  \n",
       "0                     0.00  \n",
       "1                     0.00  \n",
       "2                    75.00  \n",
       "3                    75.00  \n",
       "4                    98.00  \n",
       "...                    ...  \n",
       "119385               96.14  \n",
       "119386              225.43  \n",
       "119387              157.71  \n",
       "119388              104.40  \n",
       "119389              151.20  \n",
       "\n",
       "[79869 rows x 16 columns]"
      ]
     },
     "execution_count": 67,
     "metadata": {},
     "output_type": "execute_result"
    }
   ],
   "source": [
    "data.drop(\"ADR\",axis=1)"
   ]
  },
  {
   "cell_type": "code",
   "execution_count": 76,
   "id": "9ed462a6",
   "metadata": {},
   "outputs": [],
   "source": [
    "df=df.drop(\"DEPOSIT_TYPE\",axis=1)"
   ]
  },
  {
   "cell_type": "code",
   "execution_count": 80,
   "id": "421d7596",
   "metadata": {},
   "outputs": [
    {
     "name": "stdout",
     "output_type": "stream",
     "text": [
      "saved successfully\n"
     ]
    }
   ],
   "source": [
    "df.to_excel(\"clean.xlsx\",index=False)\n",
    "print(\"saved successfully\")"
   ]
  }
 ],
 "metadata": {
  "kernelspec": {
   "display_name": "base",
   "language": "python",
   "name": "python3"
  },
  "language_info": {
   "codemirror_mode": {
    "name": "ipython",
    "version": 3
   },
   "file_extension": ".py",
   "mimetype": "text/x-python",
   "name": "python",
   "nbconvert_exporter": "python",
   "pygments_lexer": "ipython3",
   "version": "3.12.7"
  }
 },
 "nbformat": 4,
 "nbformat_minor": 5
}
